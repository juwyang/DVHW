{
 "cells": [
  {
   "cell_type": "code",
   "execution_count": 1,
   "id": "8ce94f41-251b-4f45-bbb8-d2216f2b6def",
   "metadata": {},
   "outputs": [],
   "source": [
    "import sys\n",
    "sys.path.append('..')\n",
    "\n",
    "import numpy as np\n",
    "import pandas as pd\n",
    "from pimpa.trade_models.portfolio import Portfolio\n",
    "from pimpa.evaluators.ccr_valuation_session import CCR_Valuation_Session\n",
    "from data.configuration.global_parameters import global_parameters\n",
    "from pimpa.utils.calendar_utils import transform_dates_to_time_differences\n",
    "\n",
    "from pimpa.pricing_models.interest_rate_swap_pricer import InterestRateSwapPricer\n",
    "from pimpa.pricing_models.equity_european_option_pricer import EquityEuropeanOptionPricer\n",
    "from pimpa.trade_models.interest_rate_swap import InterestRateSwap\n",
    "from pimpa.trade_models.equity_european_option import EquityEuropeanOption\n",
    "from pimpa.market_data_objects.market_data_builder import MarketDataBuilder\n",
    "from pimpa.utils.calendar_utils import generate_simulation_dates_schedule\n",
    "\n",
    "from data.configuration.global_parameters import global_parameters, calibration_parameters\n"
   ]
  },
  {
   "cell_type": "markdown",
   "id": "b1f2e06e-fc11-4a09-86fe-ec1e2fbe8d59",
   "metadata": {
    "tags": []
   },
   "source": [
    "# Construction of a portfolio based on sourced data"
   ]
  },
  {
   "cell_type": "markdown",
   "id": "28a21b5f-54b9-4af5-b7c3-1427a63497f4",
   "metadata": {},
   "source": [
    "1) Create a portfolio object\n",
    "2) Check the portfolio object attributes & methods \n",
    "3) Check the data that has been sourced (master_ledger, desks, counterparty)"
   ]
  },
  {
   "cell_type": "code",
   "execution_count": 2,
   "id": "99c212c0-7424-4bdd-82a1-4386f6a60580",
   "metadata": {},
   "outputs": [
    {
     "name": "stdout",
     "output_type": "stream",
     "text": [
      "-----------------------------\n",
      "BEFORE LOAD:\n",
      "Portfolio with netting_agreement_id: 23\n",
      "NOT AVAILABLE\n",
      "-----------------------------\n",
      "AFTER LOAD:\n",
      "Portfolio with netting_agreement_id: 23\n",
      "- including trade_IDs: [1234, 1235, 1236, 3234]\n",
      "- including netting_sets: ['23_MAIN', '23_SINGLETON_1']\n",
      "- with underlyings: {'USD_LIBOR_3M_CURVE', 'EUR_LIBOR_3M_CURVE', 'USD_ZERO_YIELD_CURVE', 'EUR_ZERO_YIELD_CURVE', 'EUR_USD_FX_RATE'}\n",
      "- with 65 valuation points.\n",
      "AVAILABLE\n",
      "-----------------------------\n",
      "{'23_MAIN': [1234, 1235, 3234], '23_SINGLETON_1': [1236]}\n",
      "-----------------------------\n"
     ]
    }
   ],
   "source": [
    "netting_agreement_id = 23\n",
    "test_portfolio_1 = Portfolio(netting_agreement_id)\n",
    "print('-----------------------------')\n",
    "print('BEFORE LOAD:')\n",
    "print(test_portfolio_1)\n",
    "print('-----------------------------')\n",
    "test_portfolio_1.load(global_parameters)\n",
    "print('AFTER LOAD:')\n",
    "print(test_portfolio_1)\n",
    "print('-----------------------------')\n",
    "print(test_portfolio_1.netting_sets)\n",
    "print('-----------------------------')"
   ]
  },
  {
   "cell_type": "markdown",
   "id": "9a3d1982-b25e-48c9-af5d-7d3d68fa5dce",
   "metadata": {},
   "source": [
    "1) Check portfolio trades\n",
    "2) Check trade object and methods"
   ]
  },
  {
   "cell_type": "code",
   "execution_count": 4,
   "id": "e7d942c2-1a61-4cb4-8272-bff1a362cfab",
   "metadata": {},
   "outputs": [
    {
     "name": "stdout",
     "output_type": "stream",
     "text": [
      "{1234: <pimpa.trade_models.interest_rate_swap.InterestRateSwap object at 0x0000021E0BD6CE80>, 1235: <pimpa.trade_models.interest_rate_swap.InterestRateSwap object at 0x0000021E6A228E80>, 1236: <pimpa.trade_models.interest_rate_swap.InterestRateSwap object at 0x0000021E0BDBCA60>, 3234: <pimpa.trade_models.interest_rate_swap.InterestRateSwap object at 0x0000021E0BDF2850>}\n",
      "-----------------------------\n",
      "Trade with trade_id: 1234\n",
      "- trade type: IRS\n",
      "- asset class: IR\n",
      "- trade currency: USD\n",
      "- trade underlyings: ['USD_LIBOR_3M_CURVE', 'USD_ZERO_YIELD_CURVE']\n",
      "- trade attributes keys: ['notional', 'currency', 'floating_rate', 'K', 'payer/receiver', 'first_fixing_date', 'last_fixing_date', 'first_payment_date', 'last_payment_date', 'payments_frequency', 'maturity', 'fixings_schedule', 'payments_schedule'])\n",
      "- with 41 valuation points.\n",
      "AVAILABLE\n",
      "-----------------------------\n",
      "Trade with trade_id: 1235\n",
      "- trade type: IRS\n",
      "- asset class: IR\n",
      "- trade currency: USD\n",
      "- trade underlyings: ['USD_LIBOR_3M_CURVE', 'USD_ZERO_YIELD_CURVE']\n",
      "- trade attributes keys: ['notional', 'currency', 'floating_rate', 'K', 'payer/receiver', 'first_fixing_date', 'last_fixing_date', 'first_payment_date', 'last_payment_date', 'payments_frequency', 'maturity', 'fixings_schedule', 'payments_schedule'])\n",
      "- with 61 valuation points.\n",
      "AVAILABLE\n",
      "-----------------------------\n",
      "Trade with trade_id: 1236\n",
      "- trade type: IRS\n",
      "- asset class: IR\n",
      "- trade currency: USD\n",
      "- trade underlyings: ['USD_LIBOR_3M_CURVE', 'USD_ZERO_YIELD_CURVE']\n",
      "- trade attributes keys: ['notional', 'currency', 'floating_rate', 'K', 'payer/receiver', 'first_fixing_date', 'last_fixing_date', 'first_payment_date', 'last_payment_date', 'payments_frequency', 'maturity', 'fixings_schedule', 'payments_schedule'])\n",
      "- with 61 valuation points.\n",
      "AVAILABLE\n",
      "-----------------------------\n",
      "Trade with trade_id: 3234\n",
      "- trade type: IRS\n",
      "- asset class: IR\n",
      "- trade currency: EUR\n",
      "- trade underlyings: ['EUR_LIBOR_3M_CURVE', 'EUR_ZERO_YIELD_CURVE']\n",
      "- trade attributes keys: ['notional', 'currency', 'floating_rate', 'K', 'payer/receiver', 'first_fixing_date', 'last_fixing_date', 'first_payment_date', 'last_payment_date', 'payments_frequency', 'maturity', 'fixings_schedule', 'payments_schedule'])\n",
      "- with 41 valuation points.\n",
      "AVAILABLE\n",
      "-----------------------------\n"
     ]
    }
   ],
   "source": [
    "print(test_portfolio_1.trade_inventory)\n",
    "print('-----------------------------')\n",
    "for _, trade in test_portfolio_1.trade_inventory.items():\n",
    "    print(trade)\n",
    "    print('-----------------------------')"
   ]
  },
  {
   "cell_type": "markdown",
   "id": "b5720c14-c014-4b26-b962-1fe8d1224d04",
   "metadata": {},
   "source": [
    "1) Check collateral agreements"
   ]
  },
  {
   "cell_type": "code",
   "execution_count": 5,
   "id": "c89b0335-5a85-46d0-b1ff-94dea4928337",
   "metadata": {},
   "outputs": [
    {
     "name": "stdout",
     "output_type": "stream",
     "text": [
      "-----------------------------\n",
      "{'VM_1': {'trade_ids': [1234, 1235, 3234], 'contractual_terms':   WE_POST_P WE_RECEIVE_R  T_P  T_R  MTA_P  MTA_R\n",
      "0       YES          YES    2  1.5    0.5    0.3}}\n",
      "-----------------------------\n"
     ]
    }
   ],
   "source": [
    "print('-----------------------------')\n",
    "print(test_portfolio_1.vm_collateral_agreements)\n",
    "print('-----------------------------')"
   ]
  },
  {
   "cell_type": "markdown",
   "id": "648e2093-af0a-46a9-bc24-41beb93bb955",
   "metadata": {
    "tags": []
   },
   "source": [
    "# Trade valuation (IRS)"
   ]
  },
  {
   "cell_type": "markdown",
   "id": "d200241c-63eb-4d8c-b5ec-f63ef77c7f13",
   "metadata": {},
   "source": [
    "1) Construct a IRS trade with child class InterestRateSwap from trade_id\n",
    "2) Load the trade"
   ]
  },
  {
   "cell_type": "code",
   "execution_count": 3,
   "id": "cd0b6062-ae7d-49c4-ac19-b9862ec4a4ee",
   "metadata": {
    "tags": []
   },
   "outputs": [
    {
     "name": "stdout",
     "output_type": "stream",
     "text": [
      "-----------------------------\n",
      "Trade with trade_id: 1234\n",
      "- trade type: IRS\n",
      "- asset class: IR\n",
      "- trade currency: USD\n",
      "- trade underlyings: ['USD_LIBOR_3M_CURVE', 'USD_ZERO_YIELD_CURVE']\n",
      "- trade attributes keys: ['notional', 'currency', 'floating_rate', 'K', 'payer/receiver', 'first_fixing_date', 'last_fixing_date', 'first_payment_date', 'last_payment_date', 'payments_frequency', 'maturity', 'fixings_schedule', 'payments_schedule'])\n",
      "- with 41 valuation points.\n",
      "AVAILABLE\n",
      "-----------------------------\n"
     ]
    }
   ],
   "source": [
    "trade_id = 1234\n",
    "risk_factors = pd.read_csv(global_parameters['prototype_data_paths']['RFs_attributes'] + global_parameters['prototype_data_files']['RFs_attributes']['all_RFs_mapping'])\n",
    "trade = InterestRateSwap(trade_id)\n",
    "trade.load(global_parameters, risk_factors)\n",
    "print('-----------------------------')\n",
    "print(trade)\n",
    "print('-----------------------------')"
   ]
  },
  {
   "cell_type": "markdown",
   "id": "9374d0b0-1d71-4424-82f8-dc8dcc971ff8",
   "metadata": {},
   "source": [
    "1) Construct an IRS pricer with child class InterestRateSwapPricer\n",
    "2) Create the risk_factor_objects with class MarketDataBuilder (Notice that we do not calibrate the RFE models but we still need to know which are simulated and which are not)\n",
    "3) Identify the dependencies for the pricer"
   ]
  },
  {
   "cell_type": "code",
   "execution_count": 4,
   "id": "f03a4ae2-235d-4a32-aa69-f1a1297c7ce0",
   "metadata": {
    "tags": []
   },
   "outputs": [
    {
     "name": "stdout",
     "output_type": "stream",
     "text": [
      "-----------------------------\n",
      "{'USD_ZERO_YIELD_CURVE': RiskFactor(name='USD_ZERO_YIELD_CURVE', asset_class='IR', asset_type='DISCOUNT_CURVE', currency='USD', simulated=True, model=<pimpa.scenario_generation.hw1f.HW1F object at 0x00000221CCE3DFD0>, model_name='HW1F', reference=None), 'USD_LIBOR_3M_CURVE': RiskFactor(name='USD_LIBOR_3M_CURVE', asset_class='IR', asset_type='SPREAD_TO_DISCOUNT_CURVE', currency='USD', simulated=False, model=None, model_name='NOT_AVAILABLE', reference='USD_ZERO_YIELD_CURVE')}\n",
      "-----------------------------\n",
      "{('historical_fixings', 'USD_ZERO_YIELD_CURVE'), ('Pricing_HW1F_calibration', 'USD_ZERO_YIELD_CURVE'), ('historical_fixings', 'USD_LIBOR_3M_CURVE'), ('spread_to_discount_curve', 'USD_LIBOR_3M_CURVE')}\n",
      "-----------------------------\n"
     ]
    }
   ],
   "source": [
    "pricer = InterestRateSwapPricer('IRS_Pricer')\n",
    "risk_factor_objects = MarketDataBuilder().get_risk_factors(trade.trade_underlyings, global_parameters)\n",
    "print('-----------------------------')\n",
    "print(risk_factor_objects)\n",
    "print('-----------------------------')\n",
    "pricer_dependencies = pricer.get_market_dependencies(trade.trade_underlyings, risk_factor_objects,calibration_parameters)\n",
    "print(pricer_dependencies)\n",
    "print('-----------------------------')"
   ]
  },
  {
   "cell_type": "markdown",
   "id": "5564ebf7-651e-4b9e-8ac0-8da59f5a332b",
   "metadata": {},
   "source": [
    "1) Source market data based on pricer dependencies and using the folders/files pointers in global_parameters (notice that we skipped RFE models dependencies since we do not use them here)\n",
    "2) Calibrate the pricer "
   ]
  },
  {
   "cell_type": "code",
   "execution_count": 5,
   "id": "49e06880-fe27-49c8-b066-b4c38ef8f9f7",
   "metadata": {},
   "outputs": [
    {
     "name": "stdout",
     "output_type": "stream",
     "text": [
      "-----------------------------\n",
      "{'historical_fixings': {'USD_ZERO_YIELD_CURVE': 2020-01-01    0.01\n",
      "2019-12-31    0.02\n",
      "2019-12-30    0.02\n",
      "2019-12-29    0.02\n",
      "2019-12-28    0.02\n",
      "              ... \n",
      "2018-12-18    0.02\n",
      "2018-12-17    0.02\n",
      "2018-12-16    0.02\n",
      "2018-12-15    0.02\n",
      "2018-12-14    0.02\n",
      "Name: USD_ZERO_YIELD_CURVE, Length: 384, dtype: float64, 'USD_LIBOR_3M_CURVE': 2020-01-01    0.002\n",
      "2019-12-31    0.002\n",
      "2019-12-30    0.002\n",
      "2019-12-29    0.002\n",
      "2019-12-28    0.002\n",
      "              ...  \n",
      "2018-12-18    0.002\n",
      "2018-12-17    0.002\n",
      "2018-12-16    0.002\n",
      "2018-12-15    0.002\n",
      "2018-12-14    0.002\n",
      "Name: USD_LIBOR_3M_CURVE, Length: 384, dtype: float64}, 'Pricing_HW1F_calibration': {'USD_ZERO_YIELD_CURVE': {'alpha': 0.05, 'volatility': 0.01, 'rate_curve': <pimpa.market_data_objects.curve.Curve object at 0x00000221AB4A8520>}}, 'spread_to_discount_curve': {'USD_LIBOR_3M_CURVE': <pimpa.market_data_objects.curve.Curve object at 0x00000221AB4A8E20>}}\n",
      "-----------------------------\n",
      "<pimpa.pricing_models.interest_rate_swap_pricer.InterestRateSwapPricer object at 0x00000221CCE3D910>\n",
      "-----------------------------\n"
     ]
    }
   ],
   "source": [
    "market_data = MarketDataBuilder().load_market_data(pricer_dependencies, global_parameters)\n",
    "print('-----------------------------')\n",
    "print(market_data)\n",
    "print('-----------------------------')\n",
    "pricer.calibrate(market_data, calibration_parameters)\n",
    "print(pricer)\n",
    "print('-----------------------------')"
   ]
  },
  {
   "cell_type": "markdown",
   "id": "f430dbc5-5639-4542-b910-6cb6d3ea89a4",
   "metadata": {},
   "source": [
    "1) Generate a fictious valuation grid\n",
    "2) Generate fictious scenarios for the only simulated RF ('USD_ZERO_YIELD_CURVE')\n",
    "3) Use the IRS pricer object to value the fictious scenarios "
   ]
  },
  {
   "cell_type": "code",
   "execution_count": 6,
   "id": "e5ed78e8-2b75-4952-af16-5ea6ee4b0a15",
   "metadata": {},
   "outputs": [],
   "source": [
    "scenarios = {'USD_ZERO_YIELD_CURVE': np.random.normal(loc=0.01, scale=0.005, size=(nr_paths, len(valuation_dates)))}\n",
    "\n",
    "trade_mtms = pricer.price_single_trade(trade, valuation_dates, scenarios, market_data, global_parameters)starting_date = '2020-01-01'\n",
    "final_date = '2040-01-01'\n",
    "valuation_frequency = 'monthly'\n",
    "nr_paths = 1000\n",
    "global_parameters['n_paths'] = nr_paths\n",
    "valuation_dates = generate_simulation_dates_schedule(starting_date, final_date, valuation_frequency, global_parameters)\n"
   ]
  },
  {
   "cell_type": "code",
   "execution_count": null,
   "id": "75e7394a",
   "metadata": {},
   "outputs": [],
   "source": [
    "SimulatedHW1FCurve(scenarios[\"USD_ZERO_YIELD_CURVE\"][:, 10]).get_value(\n",
    "                    calibration=self.calibration[\"USD_ZERO_YIELD_CURVE\"], t_date=1, \n",
    "                    T_date=[2,3], initial_date=valuation_dates[0], return_log=False)\n",
    "                "
   ]
  },
  {
   "cell_type": "code",
   "execution_count": 8,
   "id": "92a71b9a",
   "metadata": {},
   "outputs": [
    {
     "data": {
      "text/plain": [
       "array([15.31522324, 17.2050098 , 15.46872214, 15.55997716, 15.01034174,\n",
       "       15.99094727, 15.66894853, 13.42615571, 14.97954444, 14.48652106,\n",
       "       13.84293018, 14.56618171, 14.12815019, 12.66225505, 12.21375686,\n",
       "       13.21940683, 12.66924519, 12.58604633, 11.20116676, 11.27690821,\n",
       "       12.3431918 , 12.86891766, 10.43462802, 10.92870948, 10.61511111,\n",
       "       10.54816903, 10.30702003, 11.39548256,  9.71670656, 10.47524403,\n",
       "        8.64981795,  9.38845278,  9.58736571,  8.96993994,  8.83633405,\n",
       "        8.94915941,  8.88468301,  8.36185167,  8.80964227,  8.18946404,\n",
       "        7.78979712,  8.16176489,  7.97584169,  6.8808239 ,  7.58694482,\n",
       "        7.46770752,  7.19150134,  6.95595988,  6.5171926 ,  6.95498075,\n",
       "        7.01134252,  7.00527561,  6.33620973,  6.47731914,  6.49384023,\n",
       "        6.35654692,  6.09898169,  7.01341523,  6.40288009,  5.48802717,\n",
       "        6.29667875,  6.10756515,  5.28705462,  5.50881395,  5.21841716,\n",
       "        5.15498004,  4.85682307,  5.15124665,  4.94764186,  5.30079398,\n",
       "        4.25238905,  4.73114985,  4.78153205,  4.95280562,  4.75391445,\n",
       "        4.35805949,  4.16958323,  4.22844736,  4.34515705,  4.00760668,\n",
       "        4.09866677,  3.94185824,  3.5409604 ,  3.52665725,  3.77035094,\n",
       "        3.34840934,  3.4590098 ,  3.36940423,  3.21579171,  3.24360909,\n",
       "        3.34577368,  3.12042401,  3.01009779,  2.87771831,  2.66032845,\n",
       "        2.93957653,  2.7447929 ,  2.38153579,  2.42089942,  2.36782312,\n",
       "        2.03360786,  2.09808031,  2.24974548,  1.81646478,  1.72663641,\n",
       "        1.80726334,  1.45667236,  1.67075547,  1.50294079,  1.22039817,\n",
       "        1.33648896,  1.35015397,  0.86975379,  0.9915705 ,  0.94981551,\n",
       "        0.59123787,  0.63259329,  0.59863132,  0.30318981,  0.32115585,\n",
       "        0.30218154,  0.        ,  0.        ,  0.        ,  0.        ,\n",
       "        0.        ,  0.        ,  0.        ,  0.        ,  0.        ,\n",
       "        0.        ,  0.        ,  0.        ,  0.        ,  0.        ,\n",
       "        0.        ,  0.        ,  0.        ,  0.        ,  0.        ,\n",
       "        0.        ,  0.        ,  0.        ,  0.        ,  0.        ,\n",
       "        0.        ,  0.        ,  0.        ,  0.        ,  0.        ,\n",
       "        0.        ,  0.        ,  0.        ,  0.        ,  0.        ,\n",
       "        0.        ,  0.        ,  0.        ,  0.        ,  0.        ,\n",
       "        0.        ,  0.        ,  0.        ,  0.        ,  0.        ,\n",
       "        0.        ,  0.        ,  0.        ,  0.        ,  0.        ,\n",
       "        0.        ,  0.        ,  0.        ,  0.        ,  0.        ,\n",
       "        0.        ,  0.        ,  0.        ,  0.        ,  0.        ,\n",
       "        0.        ,  0.        ,  0.        ,  0.        ,  0.        ,\n",
       "        0.        ,  0.        ,  0.        ,  0.        ,  0.        ,\n",
       "        0.        ,  0.        ,  0.        ,  0.        ,  0.        ,\n",
       "        0.        ,  0.        ,  0.        ,  0.        ,  0.        ,\n",
       "        0.        ,  0.        ,  0.        ,  0.        ,  0.        ,\n",
       "        0.        ,  0.        ,  0.        ,  0.        ,  0.        ,\n",
       "        0.        ,  0.        ,  0.        ,  0.        ,  0.        ,\n",
       "        0.        ,  0.        ,  0.        ,  0.        ,  0.        ,\n",
       "        0.        ,  0.        ,  0.        ,  0.        ,  0.        ,\n",
       "        0.        ,  0.        ,  0.        ,  0.        ,  0.        ,\n",
       "        0.        ,  0.        ,  0.        ,  0.        ,  0.        ,\n",
       "        0.        ,  0.        ,  0.        ,  0.        ,  0.        ,\n",
       "        0.        ])"
      ]
     },
     "execution_count": 8,
     "metadata": {},
     "output_type": "execute_result"
    }
   ],
   "source": [
    "np.mean(trade_mtms, axis = 0)"
   ]
  },
  {
   "cell_type": "markdown",
   "id": "febcbd63-4e8f-4810-b862-47a30a31a7de",
   "metadata": {
    "tags": []
   },
   "source": [
    "# Trade valuation (EUR EQ OPT)"
   ]
  },
  {
   "cell_type": "markdown",
   "id": "5ea4a68a-61a3-41d4-82ff-b78f4e972fe2",
   "metadata": {},
   "source": [
    "1) Construct a EUR EQ OPT trade with child class EquityEuropeanOption from trade_id\n",
    "2) Load the trade"
   ]
  },
  {
   "cell_type": "code",
   "execution_count": 10,
   "id": "05ae84e5-522d-41a9-926e-b267918b7b4c",
   "metadata": {},
   "outputs": [
    {
     "name": "stdout",
     "output_type": "stream",
     "text": [
      "Trade with trade_id: 2345\n",
      "- trade type: EQ_EUR_OPT\n",
      "- asset class: EQ\n",
      "- trade currency: USD\n",
      "- trade underlyings: ['CREDIT_SUISSE_SHARE', 'USD_ZERO_YIELD_CURVE', 'CREDIT_SUISSE_IMPLIED_VOLATILITY_SURFACE']\n",
      "- trade attributes keys: ['notional', 'currency', 'underlying', 'K', 'put/call', 'long/short', 'maturity'])\n",
      "- with 0 valuation points.\n",
      "AVAILABLE\n"
     ]
    }
   ],
   "source": [
    "trade_id = 2345\n",
    "risk_factors = pd.read_csv(global_parameters['prototype_data_paths']['RFs_attributes'] + global_parameters['prototype_data_files']['RFs_attributes']['all_RFs_mapping'])\n",
    "trade = EquityEuropeanOption(trade_id)\n",
    "trade.load(global_parameters, risk_factors)\n",
    "\n",
    "print(trade)"
   ]
  },
  {
   "cell_type": "markdown",
   "id": "0e2219e8-e30b-4cad-89a5-1c9ea990acbe",
   "metadata": {},
   "source": [
    "1) Construct an EQ_EUR_OPT pricer with child class EquityEuropeanOptionPricer\n",
    "2) Create the risk_factor_objects with class MarketDataBuilder (Notice that we do not calibrate the RFE models but we still need to know which are simulated and which are not)\n",
    "3) Identify the dependencies for the pricer"
   ]
  },
  {
   "cell_type": "code",
   "execution_count": 11,
   "id": "cfc0c54c-391d-422e-88c2-82fda1a799ff",
   "metadata": {},
   "outputs": [
    {
     "name": "stdout",
     "output_type": "stream",
     "text": [
      "{('Pricing_HW1F_calibration', 'USD_ZERO_YIELD_CURVE'), ('historical_fixings', 'USD_ZERO_YIELD_CURVE'), ('equity_implied_volatility_surface', 'CREDIT_SUISSE_IMPLIED_VOLATILITY_SURFACE')}\n"
     ]
    }
   ],
   "source": [
    "pricer = EquityEuropeanOptionPricer('EQ_EUR_OPT_Pricer')\n",
    "risk_factor_objects = MarketDataBuilder().get_risk_factors(trade.trade_underlyings, global_parameters)\n",
    "pricer_dependencies = pricer.get_market_dependencies(trade.trade_underlyings, risk_factor_objects,calibration_parameters)\n",
    "print(pricer_dependencies)"
   ]
  },
  {
   "cell_type": "markdown",
   "id": "a4ba3771-7d4e-4edf-912f-503aaa97321a",
   "metadata": {},
   "source": [
    "1) Source market data based on pricer dependencies and using the folders/files pointers in global_parameters (notice that we skipped RFE models dependencies since we do not use them here)\n",
    "2) Calibrate the pricer "
   ]
  },
  {
   "cell_type": "code",
   "execution_count": 12,
   "id": "09eeee17-1692-4501-8f74-1f677e9e5cbd",
   "metadata": {},
   "outputs": [
    {
     "name": "stdout",
     "output_type": "stream",
     "text": [
      "<pimpa.pricing_models.equity_european_option_pricer.EquityEuropeanOptionPricer object at 0x12d13d670>\n"
     ]
    }
   ],
   "source": [
    "market_data = MarketDataBuilder().load_market_data(pricer_dependencies, global_parameters)\n",
    "pricer.calibrate(market_data, calibration_parameters)\n",
    "\n",
    "print(pricer)"
   ]
  },
  {
   "cell_type": "markdown",
   "id": "3d5f81d2-0967-47f3-8799-e494bfdd2354",
   "metadata": {},
   "source": [
    "1) Generate a fictious valuation grid\n",
    "2) Generate fictious scenarios for the simulated RFs ('USD_ZERO_YIELD_CURVE' and 'CREDIT_SUISSE_SHARE')\n",
    "3) Use the EQ_EUR_OPT pricer object to value the fictious scenarios "
   ]
  },
  {
   "cell_type": "code",
   "execution_count": 13,
   "id": "af35c292-6bd1-431e-86f2-61fb2dc75d7c",
   "metadata": {},
   "outputs": [
    {
     "name": "stdout",
     "output_type": "stream",
     "text": [
      "-----------------------------\n",
      "{'USD_ZERO_YIELD_CURVE': array([[ 0.0048981 ,  0.01019672,  0.01551665, ...,  0.00696472,\n",
      "         0.01384737,  0.01437883],\n",
      "       [ 0.0135735 ,  0.00742293,  0.00340565, ...,  0.01529514,\n",
      "         0.01812236,  0.00574278],\n",
      "       [ 0.00381996,  0.01326294, -0.00197518, ...,  0.00577868,\n",
      "         0.0078118 ,  0.01533414],\n",
      "       ...,\n",
      "       [ 0.0027111 ,  0.01477041,  0.0052666 , ...,  0.00933559,\n",
      "         0.00128013,  0.01377538],\n",
      "       [ 0.00983083,  0.01792578,  0.01286283, ...,  0.00416176,\n",
      "         0.00076046,  0.01627034],\n",
      "       [ 0.0020398 ,  0.0049396 ,  0.00977386, ...,  0.01468964,\n",
      "         0.00637951,  0.00945151]]), 'CREDIT_SUISSE_SHARE': array([[12.66295734,  5.82649888,  6.55875174, ..., 18.18868326,\n",
      "         5.66745959,  8.6328191 ],\n",
      "       [16.53739486,  7.3021255 ,  8.34038488, ...,  3.3305112 ,\n",
      "         9.28848849,  5.43055914],\n",
      "       [14.17032896, 11.31592775, 17.61616548, ...,  8.15968202,\n",
      "         8.94580711, 10.7063644 ],\n",
      "       ...,\n",
      "       [ 8.04499299, 11.30346975, 16.65280156, ...,  6.2313362 ,\n",
      "         6.87700191, 12.33303839],\n",
      "       [ 7.10685883, 12.52248727, 12.53962101, ..., 11.54508756,\n",
      "        13.6449374 , 10.85044903],\n",
      "       [ 7.35656467,  8.44174855,  5.25706877, ...,  8.68817659,\n",
      "         7.07801018, 11.64543622]])}\n",
      "-----------------------------\n",
      "[[441.92945889 792.7927402  700.76935852 ...   0.           0.\n",
      "    0.        ]\n",
      " [294.9474093  680.49396816 597.4429598  ...   0.           0.\n",
      "    0.        ]\n",
      " [389.02514081 404.37498949 171.45211943 ...   0.           0.\n",
      "    0.        ]\n",
      " ...\n",
      " [685.55579059 400.7308502  183.34939764 ...   0.           0.\n",
      "    0.        ]\n",
      " [722.26597138 336.00981619 312.41509801 ...   0.           0.\n",
      "    0.        ]\n",
      " [733.76818883 604.34275532 840.97616778 ...   0.           0.\n",
      "    0.        ]]\n",
      "-----------------------------\n"
     ]
    }
   ],
   "source": [
    "starting_date = '2017-01-01'\n",
    "final_date = '2022-01-01'\n",
    "valuation_frequency = 'monthly'\n",
    "nr_paths = 1000\n",
    "global_parameters['n_paths'] = nr_paths\n",
    "valuation_dates = generate_simulation_dates_schedule(starting_date, final_date, valuation_frequency, global_parameters)\n",
    "scenarios = {'USD_ZERO_YIELD_CURVE': np.random.normal(loc=0.01, scale=0.005, size=(nr_paths, len(valuation_dates))), \\\n",
    "            'CREDIT_SUISSE_SHARE':10*np.random.lognormal(mean=0.0, sigma=0.4, size=(nr_paths, len(valuation_dates)))}\n",
    "trade_mtms = pricer.price_single_trade(trade, valuation_dates, scenarios, market_data, global_parameters)\n",
    "print('-----------------------------')\n",
    "print(scenarios)\n",
    "print('-----------------------------')\n",
    "print(trade_mtms)\n",
    "print('-----------------------------')"
   ]
  },
  {
   "cell_type": "code",
   "execution_count": null,
   "id": "0dc71085-cf56-407b-b4c0-a39b3b4f0e45",
   "metadata": {},
   "outputs": [],
   "source": []
  },
  {
   "cell_type": "code",
   "execution_count": null,
   "id": "056da8a6-6007-4c88-9ed3-52af75b1cc41",
   "metadata": {},
   "outputs": [],
   "source": []
  }
 ],
 "metadata": {
  "kernelspec": {
   "display_name": "Python 3 (ipykernel)",
   "language": "python",
   "name": "python3"
  },
  "language_info": {
   "codemirror_mode": {
    "name": "ipython",
    "version": 3
   },
   "file_extension": ".py",
   "mimetype": "text/x-python",
   "name": "python",
   "nbconvert_exporter": "python",
   "pygments_lexer": "ipython3",
   "version": "3.8.8"
  }
 },
 "nbformat": 4,
 "nbformat_minor": 5
}
