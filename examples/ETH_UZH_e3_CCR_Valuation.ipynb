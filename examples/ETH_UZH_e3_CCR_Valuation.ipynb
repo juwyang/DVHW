{
 "cells": [
  {
   "cell_type": "code",
   "execution_count": 2,
   "id": "df1705e9-bd0e-4188-8076-335667efb2c0",
   "metadata": {},
   "outputs": [],
   "source": [
    "import sys\n",
    "sys.path.append('..')\n",
    "\n",
    "import numpy as np\n",
    "from pimpa.trade_models.portfolio import Portfolio\n",
    "from pimpa.evaluators.ccr_valuation_session import CCR_Valuation_Session\n",
    "from data.configuration.global_parameters import global_parameters\n",
    "from pimpa.utils.calendar_utils import transform_dates_to_time_differences\n"
   ]
  },
  {
   "cell_type": "markdown",
   "id": "1ff64575-f7d4-4f0e-b526-47119d5439ee",
   "metadata": {
    "tags": []
   },
   "source": [
    "## Example 1: Swaps portfolio with collateral agreement "
   ]
  },
  {
   "cell_type": "code",
   "execution_count": 3,
   "id": "e97bb779-37cf-4e23-b8ef-0b95ce9a84ec",
   "metadata": {},
   "outputs": [
    {
     "name": "stdout",
     "output_type": "stream",
     "text": [
      "-----------------------------\n",
      "Portfolio underlyings:\n",
      "USD_LIBOR_3M_CURVE\n",
      "USD_ZERO_YIELD_CURVE\n",
      "EUR_ZERO_YIELD_CURVE\n",
      "EUR_LIBOR_3M_CURVE\n",
      "EUR_USD_FX_RATE\n",
      "-----------------------------\n",
      "Portfolio trades:\n",
      "Trade with trade_id: 1234\n",
      "- trade type: IRS\n",
      "- asset class: IR\n",
      "- trade currency: USD\n",
      "- trade underlyings: ['USD_LIBOR_3M_CURVE', 'USD_ZERO_YIELD_CURVE']\n",
      "- trade attributes keys: ['notional', 'currency', 'floating_rate', 'K', 'payer/receiver', 'first_fixing_date', 'last_fixing_date', 'first_payment_date', 'last_payment_date', 'payments_frequency', 'maturity', 'fixings_schedule', 'payments_schedule'])\n",
      "- with 41 valuation points.\n",
      "AVAILABLE\n",
      "Trade with trade_id: 1235\n",
      "- trade type: IRS\n",
      "- asset class: IR\n",
      "- trade currency: USD\n",
      "- trade underlyings: ['USD_LIBOR_3M_CURVE', 'USD_ZERO_YIELD_CURVE']\n",
      "- trade attributes keys: ['notional', 'currency', 'floating_rate', 'K', 'payer/receiver', 'first_fixing_date', 'last_fixing_date', 'first_payment_date', 'last_payment_date', 'payments_frequency', 'maturity', 'fixings_schedule', 'payments_schedule'])\n",
      "- with 61 valuation points.\n",
      "AVAILABLE\n",
      "Trade with trade_id: 1236\n",
      "- trade type: IRS\n",
      "- asset class: IR\n",
      "- trade currency: USD\n",
      "- trade underlyings: ['USD_LIBOR_3M_CURVE', 'USD_ZERO_YIELD_CURVE']\n",
      "- trade attributes keys: ['notional', 'currency', 'floating_rate', 'K', 'payer/receiver', 'first_fixing_date', 'last_fixing_date', 'first_payment_date', 'last_payment_date', 'payments_frequency', 'maturity', 'fixings_schedule', 'payments_schedule'])\n",
      "- with 61 valuation points.\n",
      "AVAILABLE\n",
      "Trade with trade_id: 3234\n",
      "- trade type: IRS\n",
      "- asset class: IR\n",
      "- trade currency: EUR\n",
      "- trade underlyings: ['EUR_LIBOR_3M_CURVE', 'EUR_ZERO_YIELD_CURVE']\n",
      "- trade attributes keys: ['notional', 'currency', 'floating_rate', 'K', 'payer/receiver', 'first_fixing_date', 'last_fixing_date', 'first_payment_date', 'last_payment_date', 'payments_frequency', 'maturity', 'fixings_schedule', 'payments_schedule'])\n",
      "- with 41 valuation points.\n",
      "AVAILABLE\n",
      "-----------------------------\n",
      "Market dependencies:\n",
      "{('RFE_GBM_calibration', 'EUR_USD_FX_RATE'), ('spread_to_discount_curve', 'USD_LIBOR_3M_CURVE'), ('historical_fixings', 'EUR_LIBOR_3M_CURVE'), ('Pricing_HW1F_calibration', 'EUR_ZERO_YIELD_CURVE'), ('RFE_HW1F_calibration', 'USD_ZERO_YIELD_CURVE'), ('Pricing_HW1F_calibration', 'USD_ZERO_YIELD_CURVE'), ('historical_fixings', 'USD_ZERO_YIELD_CURVE'), ('historical_fixings', 'USD_LIBOR_3M_CURVE'), ('RFE_HW1F_calibration', 'EUR_ZERO_YIELD_CURVE'), ('spread_to_discount_curve', 'EUR_LIBOR_3M_CURVE'), ('historical_fixings', 'EUR_ZERO_YIELD_CURVE')}\n",
      "-----------------------------\n",
      "Risk factors:\n",
      "RiskFactor(name='EUR_ZERO_YIELD_CURVE', asset_class='IR', asset_type='DISCOUNT_CURVE', currency='EUR', simulated=True, model=<pimpa.scenario_generation.hw1f.HW1F object at 0x0000024840537760>, model_name='HW1F', reference=None)\n",
      "RiskFactor(name='USD_ZERO_YIELD_CURVE', asset_class='IR', asset_type='DISCOUNT_CURVE', currency='USD', simulated=True, model=<pimpa.scenario_generation.hw1f.HW1F object at 0x0000024840537310>, model_name='HW1F', reference=None)\n",
      "RiskFactor(name='EUR_LIBOR_3M_CURVE', asset_class='IR', asset_type='SPREAD_TO_DISCOUNT_CURVE', currency='EUR', simulated=False, model=None, model_name='NOT_AVAILABLE', reference='EUR_ZERO_YIELD_CURVE')\n",
      "RiskFactor(name='USD_LIBOR_3M_CURVE', asset_class='IR', asset_type='SPREAD_TO_DISCOUNT_CURVE', currency='USD', simulated=False, model=None, model_name='NOT_AVAILABLE', reference='USD_ZERO_YIELD_CURVE')\n",
      "RiskFactor(name='EUR_USD_FX_RATE', asset_class='FX', asset_type='SPOT', currency='EUR', simulated=True, model=<pimpa.scenario_generation.geometric_brownian_motion.GeometricBrownianMotion object at 0x00000248404E07F0>, model_name='GBM', reference=None)\n",
      "-----------------------------\n",
      "Portfolio netting sets:\n",
      "{'23_MAIN': [1234, 1235, 3234], '23_SINGLETON_1': [1236]}\n",
      "-----------------------------\n",
      "VM_collateral_agreements:\n",
      "{'VM_1': {'trade_ids': [1234, 1235, 3234], 'contractual_terms':   WE_POST_P WE_RECEIVE_R  T_P  T_R  MTA_P  MTA_R\n",
      "0       YES          YES    2  1.5    0.5    0.3}}\n",
      "-----------------------------\n",
      "valuation as of: 2019-10-10\n",
      "-----------------------------\n",
      "   default_times  uncollateralized_ee  uncollateralized_pe_0.99  \\\n",
      "0     2019-10-10             0.000000                 -9.861939   \n",
      "1     2019-10-11             0.584416                 10.356039   \n",
      "2     2019-10-17             5.264202                 43.700184   \n",
      "3     2019-10-24             8.731245                 65.371857   \n",
      "4     2019-11-10            15.446262                 99.408058   \n",
      "5     2020-04-10            55.624668                261.719911   \n",
      "6     2020-10-10            86.963696                376.458748   \n",
      "7     2021-10-10           119.648499                472.069744   \n",
      "8     2024-10-10           180.106963                570.501218   \n",
      "9     2029-10-10           245.593223                474.495885   \n",
      "10    2039-10-10             0.000000                  0.000000   \n",
      "11    2069-10-10             0.000000                  0.000000   \n",
      "\n",
      "    collateralized_ee  collateralized_pe_0.99  \n",
      "0           56.522271               96.329638  \n",
      "1           56.504508              100.686851  \n",
      "2           56.271244              121.755276  \n",
      "3           56.860788              137.905339  \n",
      "4           62.643891              153.362977  \n",
      "5           82.156702              227.837066  \n",
      "6          102.835930              293.155240  \n",
      "7          123.179314              343.708364  \n",
      "8          172.272699              409.560964  \n",
      "9          214.732960              392.294757  \n",
      "10           0.000000                0.000000  \n",
      "11           0.000000                0.000000  \n",
      "-----------------------------\n"
     ]
    }
   ],
   "source": [
    "netting_agreement_id = 23\n",
    "\n",
    "portfolio_1 = Portfolio(netting_agreement_id)\n",
    "portfolio_1.load(global_parameters)\n",
    "print('-----------------------------')\n",
    "print('Portfolio underlyings:')\n",
    "for rf in portfolio_1.portfolio_underlyings:\n",
    "    print(rf)\n",
    "print('-----------------------------')\n",
    "print('Portfolio trades:')\n",
    "for _, trade in portfolio_1.trade_inventory.items():\n",
    "    print(trade)\n",
    "portfolio_1_run = CCR_Valuation_Session(portfolio_1)\n",
    "today_date = '2019-10-10'\n",
    "portfolio_1_run.run(today_date, global_parameters)\n",
    "print('-----------------------------')\n",
    "print('Market dependencies:')\n",
    "print(portfolio_1_run.market_dependencies)\n",
    "print('-----------------------------')\n",
    "print('Risk factors:')\n",
    "for rf in portfolio_1_run.risk_factors.values():\n",
    "    print(rf)\n",
    "print('-----------------------------')\n",
    "print('Portfolio netting sets:')\n",
    "print(portfolio_1.netting_sets)\n",
    "print('-----------------------------')\n",
    "print('VM_collateral_agreements:')\n",
    "print(portfolio_1.vm_collateral_agreements)\n",
    "print('-----------------------------')\n",
    "print('valuation as of: '+today_date)\n",
    "portfolio_1_exposures = portfolio_1_run.get_exposures()\n",
    "print('-----------------------------')\n",
    "print(portfolio_1_exposures)\n",
    "print('-----------------------------')"
   ]
  },
  {
   "cell_type": "code",
   "execution_count": 4,
   "id": "c0664f5a-f8fd-4b8e-9550-c2b3a946001a",
   "metadata": {},
   "outputs": [
    {
     "data": {
      "text/plain": [
       "{'IRS': [<pimpa.pricing_models.interest_rate_swap_pricer.InterestRateSwapPricer at 0x248405379a0>,\n",
       "  [1234, 1235, 1236, 3234]]}"
      ]
     },
     "execution_count": 4,
     "metadata": {},
     "output_type": "execute_result"
    }
   ],
   "source": [
    "portfolio_1_run.trade_pricer_mapping"
   ]
  },
  {
   "cell_type": "markdown",
   "id": "1ea0f8d6-ec67-4941-8742-e044ce48a5ca",
   "metadata": {},
   "source": [
    "Why the collateralised exposure is larger than the uncollateralised one? We need to check the VM agreement and see which trades are in scope..."
   ]
  },
  {
   "cell_type": "code",
   "execution_count": 4,
   "id": "fb8b9dda-c4ee-4169-b305-dd488389a5b5",
   "metadata": {},
   "outputs": [
    {
     "name": "stdout",
     "output_type": "stream",
     "text": [
      "{1234: array([[14.54265634, 15.87730825, 13.80022364, ...,  0.        ,\n",
      "         0.        ,  0.        ],\n",
      "       [14.54265634, 13.31943376, 12.86983809, ...,  0.        ,\n",
      "         0.        ,  0.        ],\n",
      "       [14.54265634, 17.0507136 , 17.07845897, ...,  0.        ,\n",
      "         0.        ,  0.        ],\n",
      "       ...,\n",
      "       [14.54265634, 17.45308342, 17.20017687, ...,  0.        ,\n",
      "         0.        ,  0.        ],\n",
      "       [14.54265634, 15.67439176, 17.09993267, ...,  0.        ,\n",
      "         0.        ,  0.        ],\n",
      "       [14.54265634, 13.01683389, 26.50212322, ...,  0.        ,\n",
      "         0.        ,  0.        ]]), 1235: array([[-32.44476128, -33.3924501 , -31.92140938, ...,   0.        ,\n",
      "          0.        ,   0.        ],\n",
      "       [-32.44476128, -31.57806679, -31.26232196, ...,   0.        ,\n",
      "          0.        ,   0.        ],\n",
      "       [-32.44476128, -34.22625164, -34.24835532, ...,   0.        ,\n",
      "          0.        ,   0.        ],\n",
      "       ...,\n",
      "       [-32.44476128, -34.51238055, -34.33489136, ...,   0.        ,\n",
      "          0.        ,   0.        ],\n",
      "       [-32.44476128, -33.24835458, -34.26362145, ...,   0.        ,\n",
      "          0.        ,   0.        ],\n",
      "       [-32.44476128, -31.36371371, -40.97728922, ...,   0.        ,\n",
      "          0.        ,   0.        ]]), 1236: array([[59.05947033, 55.70867189, 60.93758896, ...,  0.        ,\n",
      "         0.        ,  0.        ],\n",
      "       [59.05947033, 62.13023459, 63.27029954, ...,  0.        ,\n",
      "         0.        ,  0.        ],\n",
      "       [59.05947033, 52.75674099, 52.69900203, ...,  0.        ,\n",
      "         0.        ,  0.        ],\n",
      "       ...,\n",
      "       [59.05947033, 51.74362184, 52.39253586, ...,  0.        ,\n",
      "         0.        ,  0.        ],\n",
      "       [59.05947033, 56.21876036, 52.64493768, ...,  0.        ,\n",
      "         0.        ,  0.        ],\n",
      "       [59.05947033, 62.88870674, 28.85101146, ...,  0.        ,\n",
      "         0.        ,  0.        ]])}\n",
      "[[-15.40210494 -15.01514185 -15.62118575 ...   0.           0.\n",
      "    0.        ]\n",
      " [-15.40210494 -15.75863303 -15.89248387 ...   0.           0.\n",
      "    0.        ]\n",
      " [-15.40210494 -14.67553805 -14.66989635 ...   0.           0.\n",
      "    0.        ]\n",
      " ...\n",
      " [-15.40210494 -14.55929713 -14.6347145  ...   0.           0.\n",
      "    0.        ]\n",
      " [-15.40210494 -15.07396282 -14.66368878 ...   0.           0.\n",
      "    0.        ]\n",
      " [-15.40210494 -15.84687983 -11.975166   ...   0.           0.\n",
      "    0.        ]]\n"
     ]
    }
   ],
   "source": [
    "print(portfolio_1_run.scenarios_MtMs)\n",
    "print(portfolio_1_run.scenarios_collateral_requirements)"
   ]
  },
  {
   "cell_type": "markdown",
   "id": "9b549e13-51f8-454a-91e4-98e09cec082d",
   "metadata": {
    "tags": []
   },
   "source": [
    "## Example 2: single swap portfolio with collateral agreement "
   ]
  },
  {
   "cell_type": "code",
   "execution_count": 1,
   "id": "f9365209-acbb-4e2e-adf7-28d153ef59a7",
   "metadata": {},
   "outputs": [
    {
     "ename": "NameError",
     "evalue": "name 'Portfolio' is not defined",
     "output_type": "error",
     "traceback": [
      "\u001b[1;31m---------------------------------------------------------------------------\u001b[0m",
      "\u001b[1;31mNameError\u001b[0m                                 Traceback (most recent call last)",
      "\u001b[1;32m<ipython-input-1-6c63bbf30be4>\u001b[0m in \u001b[0;36m<module>\u001b[1;34m\u001b[0m\n\u001b[0;32m      1\u001b[0m \u001b[0mnetting_agreement_id\u001b[0m \u001b[1;33m=\u001b[0m \u001b[1;36m24\u001b[0m\u001b[1;33m\u001b[0m\u001b[1;33m\u001b[0m\u001b[0m\n\u001b[0;32m      2\u001b[0m \u001b[1;33m\u001b[0m\u001b[0m\n\u001b[1;32m----> 3\u001b[1;33m \u001b[0mportfolio_2\u001b[0m \u001b[1;33m=\u001b[0m \u001b[0mPortfolio\u001b[0m\u001b[1;33m(\u001b[0m\u001b[0mnetting_agreement_id\u001b[0m\u001b[1;33m)\u001b[0m\u001b[1;33m\u001b[0m\u001b[1;33m\u001b[0m\u001b[0m\n\u001b[0m\u001b[0;32m      4\u001b[0m \u001b[0mportfolio_2\u001b[0m\u001b[1;33m.\u001b[0m\u001b[0mload\u001b[0m\u001b[1;33m(\u001b[0m\u001b[0mglobal_parameters\u001b[0m\u001b[1;33m)\u001b[0m\u001b[1;33m\u001b[0m\u001b[1;33m\u001b[0m\u001b[0m\n\u001b[0;32m      5\u001b[0m \u001b[0mprint\u001b[0m\u001b[1;33m(\u001b[0m\u001b[1;34m'-----------------------------'\u001b[0m\u001b[1;33m)\u001b[0m\u001b[1;33m\u001b[0m\u001b[1;33m\u001b[0m\u001b[0m\n",
      "\u001b[1;31mNameError\u001b[0m: name 'Portfolio' is not defined"
     ]
    }
   ],
   "source": [
    "netting_agreement_id = 24\n",
    "\n",
    "portfolio_2 = Portfolio(netting_agreement_id)\n",
    "portfolio_2.load(global_parameters)\n",
    "print('-----------------------------')\n",
    "print('Portfolio underlyings:')\n",
    "for rf in portfolio_2.portfolio_underlyings:\n",
    "    print(rf)\n",
    "print('-----------------------------')\n",
    "print('Portfolio trades:')\n",
    "for _, trade in portfolio_2.trade_inventory.items():\n",
    "    print(trade)\n",
    "portfolio_2_run = CCR_Valuation_Session(portfolio_2)\n",
    "today_date = '2019-10-10'\n",
    "portfolio_2_run.run(today_date, global_parameters)\n",
    "print('-----------------------------')\n",
    "print('Market dependencies:')\n",
    "print(portfolio_2_run.market_dependencies)\n",
    "print('-----------------------------')\n",
    "print('Risk factors:')\n",
    "for rf in portfolio_2_run.risk_factors.values():\n",
    "    print(rf)\n",
    "print('-----------------------------')\n",
    "print('Portfolio netting sets:')\n",
    "print(portfolio_2.netting_sets)\n",
    "print('-----------------------------')\n",
    "print('VM_collateral_agreements:')\n",
    "print(portfolio_2.vm_collateral_agreements)\n",
    "print('-----------------------------')\n",
    "print('valuation as of: '+today_date)\n",
    "portfolio_2_exposures = portfolio_2_run.get_exposures()\n",
    "print('-----------------------------')\n",
    "print(portfolio_2_exposures)\n",
    "print('-----------------------------')"
   ]
  },
  {
   "cell_type": "markdown",
   "id": "6d6c5ca2-31fc-49ef-90ee-8322982ee0d5",
   "metadata": {
    "tags": []
   },
   "source": [
    "## Example 3: single Equity European Option uncollateralised "
   ]
  },
  {
   "cell_type": "code",
   "execution_count": 6,
   "id": "cf414250-ac15-4225-b5b3-8af7d6772786",
   "metadata": {},
   "outputs": [
    {
     "name": "stdout",
     "output_type": "stream",
     "text": [
      "-----------------------------\n",
      "Portfolio underlyings:\n",
      "CREDIT_SUISSE_SHARE\n",
      "USD_ZERO_YIELD_CURVE\n",
      "CREDIT_SUISSE_IMPLIED_VOLATILITY_SURFACE\n",
      "-----------------------------\n",
      "Portfolio trades:\n",
      "Trade with trade_id: 2345\n",
      "- trade type: EQ_EUR_OPT\n",
      "- asset class: EQ\n",
      "- trade currency: USD\n",
      "- trade underlyings: ['CREDIT_SUISSE_SHARE', 'USD_ZERO_YIELD_CURVE', 'CREDIT_SUISSE_IMPLIED_VOLATILITY_SURFACE']\n",
      "- trade attributes keys: ['notional', 'currency', 'underlying', 'K', 'put/call', 'long/short', 'maturity'])\n",
      "- with 0 valuation points.\n",
      "AVAILABLE\n",
      "-----------------------------\n",
      "Market dependencies:\n",
      "{('Pricing_HW1F_calibration', 'USD_ZERO_YIELD_CURVE'), ('equity_spot', 'CREDIT_SUISSE_SHARE'), ('RFE_HW1F_calibration', 'USD_ZERO_YIELD_CURVE'), ('historical_fixings', 'USD_ZERO_YIELD_CURVE'), ('equity_implied_volatility_surface', 'CREDIT_SUISSE_IMPLIED_VOLATILITY_SURFACE')}\n",
      "-----------------------------\n",
      "Risk factors:\n",
      "RiskFactor(name='USD_ZERO_YIELD_CURVE', asset_class='IR', asset_type='DISCOUNT_CURVE', currency='USD', simulated=True, model=<pimpa.scenario_generation.hw1f.HW1F object at 0x12b2028e0>, model_name='HW1F', reference=None)\n",
      "RiskFactor(name='CREDIT_SUISSE_SHARE', asset_class='EQ', asset_type='SPOT', currency='USD', simulated=True, model=<pimpa.scenario_generation.geometric_brownian_motion.GeometricBrownianMotion object at 0x12b2028b0>, model_name='GBM', reference=None)\n",
      "RiskFactor(name='CREDIT_SUISSE_IMPLIED_VOLATILITY_SURFACE', asset_class='EQ_VOL', asset_type='SURFACE', currency='NOT_AVAILABLE', simulated=False, model=None, model_name='NOT_AVAILABLE', reference=None)\n",
      "-----------------------------\n",
      "Portfolio netting sets:\n",
      "{'25_MAIN': [2345]}\n",
      "-----------------------------\n",
      "VM_collateral_agreements:\n",
      "{}\n",
      "-----------------------------\n",
      "valuation as of: 2019-10-10\n",
      "-----------------------------\n",
      "   default_times  uncollateralized_ee  uncollateralized_pe_0.99\n",
      "0     2019-10-10           400.973522                400.973522\n",
      "1     2019-10-11           400.971113                453.949480\n",
      "2     2019-10-17           401.048888                532.684360\n",
      "3     2019-10-24           399.832838                571.056745\n",
      "4     2019-11-10           397.873247                629.675754\n",
      "5     2020-04-10             0.000000                  0.000000\n",
      "6     2020-10-10             0.000000                  0.000000\n",
      "7     2021-10-10             0.000000                  0.000000\n",
      "8     2024-10-10             0.000000                  0.000000\n",
      "9     2029-10-10             0.000000                  0.000000\n",
      "10    2039-10-10             0.000000                  0.000000\n",
      "11    2069-10-10             0.000000                  0.000000\n",
      "-----------------------------\n"
     ]
    }
   ],
   "source": [
    "netting_agreement_id = 25\n",
    "\n",
    "portfolio_3 = Portfolio(netting_agreement_id)\n",
    "portfolio_3.load(global_parameters)\n",
    "print('-----------------------------')\n",
    "print('Portfolio underlyings:')\n",
    "for rf in portfolio_3.portfolio_underlyings:\n",
    "    print(rf)\n",
    "print('-----------------------------')\n",
    "print('Portfolio trades:')\n",
    "for _, trade in portfolio_3.trade_inventory.items():\n",
    "    print(trade)\n",
    "portfolio_3_run = CCR_Valuation_Session(portfolio_3)\n",
    "today_date = '2019-10-10'\n",
    "portfolio_3_run.run(today_date, global_parameters)\n",
    "print('-----------------------------')\n",
    "print('Market dependencies:')\n",
    "print(portfolio_3_run.market_dependencies)\n",
    "print('-----------------------------')\n",
    "print('Risk factors:')\n",
    "for rf in portfolio_3_run.risk_factors.values():\n",
    "    print(rf)\n",
    "print('-----------------------------')\n",
    "print('Portfolio netting sets:')\n",
    "print(portfolio_3.netting_sets)\n",
    "print('-----------------------------')\n",
    "print('VM_collateral_agreements:')\n",
    "print(portfolio_3.vm_collateral_agreements)\n",
    "print('-----------------------------')\n",
    "print('valuation as of: '+today_date)\n",
    "portfolio_3_exposures = portfolio_3_run.get_exposures()\n",
    "print('-----------------------------')\n",
    "print(portfolio_3_exposures)\n",
    "print('-----------------------------')"
   ]
  },
  {
   "cell_type": "markdown",
   "id": "1e9854f8-ec76-4a55-8622-10fb18749bb8",
   "metadata": {
    "tags": []
   },
   "source": [
    "## Example 4: Equity European Options portfolio uncollateralised "
   ]
  },
  {
   "cell_type": "code",
   "execution_count": 7,
   "id": "74b9d8c6-d62f-4299-85f0-7f3edcdf196c",
   "metadata": {},
   "outputs": [
    {
     "name": "stdout",
     "output_type": "stream",
     "text": [
      "-----------------------------\n",
      "Portfolio underlyings:\n",
      "CREDIT_SUISSE_SHARE\n",
      "USD_ZERO_YIELD_CURVE\n",
      "CREDIT_SUISSE_IMPLIED_VOLATILITY_SURFACE\n",
      "-----------------------------\n",
      "Portfolio trades:\n",
      "Trade with trade_id: 2346\n",
      "- trade type: EQ_EUR_OPT\n",
      "- asset class: EQ\n",
      "- trade currency: USD\n",
      "- trade underlyings: ['CREDIT_SUISSE_SHARE', 'USD_ZERO_YIELD_CURVE', 'CREDIT_SUISSE_IMPLIED_VOLATILITY_SURFACE']\n",
      "- trade attributes keys: ['notional', 'currency', 'underlying', 'K', 'put/call', 'long/short', 'maturity'])\n",
      "- with 0 valuation points.\n",
      "AVAILABLE\n",
      "Trade with trade_id: 2347\n",
      "- trade type: EQ_EUR_OPT\n",
      "- asset class: EQ\n",
      "- trade currency: USD\n",
      "- trade underlyings: ['CREDIT_SUISSE_SHARE', 'USD_ZERO_YIELD_CURVE', 'CREDIT_SUISSE_IMPLIED_VOLATILITY_SURFACE']\n",
      "- trade attributes keys: ['notional', 'currency', 'underlying', 'K', 'put/call', 'long/short', 'maturity'])\n",
      "- with 0 valuation points.\n",
      "AVAILABLE\n",
      "Trade with trade_id: 2348\n",
      "- trade type: EQ_EUR_OPT\n",
      "- asset class: EQ\n",
      "- trade currency: USD\n",
      "- trade underlyings: ['CREDIT_SUISSE_SHARE', 'USD_ZERO_YIELD_CURVE', 'CREDIT_SUISSE_IMPLIED_VOLATILITY_SURFACE']\n",
      "- trade attributes keys: ['notional', 'currency', 'underlying', 'K', 'put/call', 'long/short', 'maturity'])\n",
      "- with 0 valuation points.\n",
      "AVAILABLE\n",
      "-----------------------------\n",
      "Market dependencies:\n",
      "{('Pricing_HW1F_calibration', 'USD_ZERO_YIELD_CURVE'), ('equity_spot', 'CREDIT_SUISSE_SHARE'), ('RFE_HW1F_calibration', 'USD_ZERO_YIELD_CURVE'), ('historical_fixings', 'USD_ZERO_YIELD_CURVE'), ('equity_implied_volatility_surface', 'CREDIT_SUISSE_IMPLIED_VOLATILITY_SURFACE')}\n",
      "-----------------------------\n",
      "Risk factors:\n",
      "RiskFactor(name='USD_ZERO_YIELD_CURVE', asset_class='IR', asset_type='DISCOUNT_CURVE', currency='USD', simulated=True, model=<pimpa.scenario_generation.hw1f.HW1F object at 0x12b202b80>, model_name='HW1F', reference=None)\n",
      "RiskFactor(name='CREDIT_SUISSE_SHARE', asset_class='EQ', asset_type='SPOT', currency='USD', simulated=True, model=<pimpa.scenario_generation.geometric_brownian_motion.GeometricBrownianMotion object at 0x12b2022b0>, model_name='GBM', reference=None)\n",
      "RiskFactor(name='CREDIT_SUISSE_IMPLIED_VOLATILITY_SURFACE', asset_class='EQ_VOL', asset_type='SURFACE', currency='NOT_AVAILABLE', simulated=False, model=None, model_name='NOT_AVAILABLE', reference=None)\n",
      "-----------------------------\n",
      "Portfolio netting sets:\n",
      "{'26_MAIN': [2346, 2347, 2348]}\n",
      "-----------------------------\n",
      "VM_collateral_agreements:\n",
      "{}\n",
      "-----------------------------\n",
      "valuation as of: 2019-10-10\n",
      "-----------------------------\n",
      "   default_times  uncollateralized_ee  uncollateralized_pe_0.99\n",
      "0     2019-10-10                  0.0             -6.772798e+02\n",
      "1     2019-10-11                  0.0             -6.759312e+02\n",
      "2     2019-10-17                  0.0             -6.735527e+02\n",
      "3     2019-10-24                  0.0             -6.498032e+02\n",
      "4     2019-11-10                  0.0             -5.916155e+02\n",
      "5     2020-04-10                  0.0             -4.799397e+02\n",
      "6     2020-10-10                  0.0             -4.287243e+02\n",
      "7     2021-10-10                  0.0             -3.618135e+02\n",
      "8     2024-10-10                  0.0             -9.808794e-15\n",
      "9     2029-10-10                  0.0              0.000000e+00\n",
      "10    2039-10-10                  0.0              0.000000e+00\n",
      "11    2069-10-10                  0.0              0.000000e+00\n",
      "-----------------------------\n"
     ]
    }
   ],
   "source": [
    "netting_agreement_id = 26\n",
    "\n",
    "portfolio_4 = Portfolio(netting_agreement_id)\n",
    "portfolio_4.load(global_parameters)\n",
    "print('-----------------------------')\n",
    "print('Portfolio underlyings:')\n",
    "for rf in portfolio_4.portfolio_underlyings:\n",
    "    print(rf)\n",
    "print('-----------------------------')\n",
    "print('Portfolio trades:')\n",
    "for _, trade in portfolio_4.trade_inventory.items():\n",
    "    print(trade)\n",
    "portfolio_4_run = CCR_Valuation_Session(portfolio_4)\n",
    "today_date = '2019-10-10'\n",
    "portfolio_4_run.run(today_date, global_parameters)\n",
    "print('-----------------------------')\n",
    "print('Market dependencies:')\n",
    "print(portfolio_4_run.market_dependencies)\n",
    "print('-----------------------------')\n",
    "print('Risk factors:')\n",
    "for rf in portfolio_4_run.risk_factors.values():\n",
    "    print(rf)\n",
    "print('-----------------------------')\n",
    "print('Portfolio netting sets:')\n",
    "print(portfolio_4.netting_sets)\n",
    "print('-----------------------------')\n",
    "print('VM_collateral_agreements:')\n",
    "print(portfolio_4.vm_collateral_agreements)\n",
    "print('-----------------------------')\n",
    "print('valuation as of: '+today_date)\n",
    "portfolio_4_exposures = portfolio_4_run.get_exposures()\n",
    "print('-----------------------------')\n",
    "print(portfolio_4_exposures)\n",
    "print('-----------------------------')"
   ]
  },
  {
   "cell_type": "code",
   "execution_count": 8,
   "id": "f1a47a72-33fa-402b-8612-6f9b09e46280",
   "metadata": {},
   "outputs": [
    {
     "data": {
      "text/plain": [
       "{'EQ_EUR_OPT': [<pimpa.pricing_models.equity_european_option_pricer.EquityEuropeanOptionPricer at 0x12b1489d0>,\n",
       "  [2346, 2347, 2348]]}"
      ]
     },
     "execution_count": 8,
     "metadata": {},
     "output_type": "execute_result"
    }
   ],
   "source": [
    "portfolio_4_run.trade_pricer_mapping"
   ]
  },
  {
   "cell_type": "code",
   "execution_count": 9,
   "id": "a21829af-3ffc-46ea-bf43-40f6c1df24b6",
   "metadata": {},
   "outputs": [
    {
     "data": {
      "text/plain": [
       "array([125.4334999 , 107.46070965, 116.84173612, ..., 118.93002637,\n",
       "       103.93724365, 132.67326106])"
      ]
     },
     "execution_count": 9,
     "metadata": {},
     "output_type": "execute_result"
    }
   ],
   "source": [
    "portfolio_4_run.scenarios_MtMs[2346][:,1]"
   ]
  },
  {
   "cell_type": "code",
   "execution_count": null,
   "id": "d5b67bfd-5f9e-4e04-a100-864b91c16463",
   "metadata": {},
   "outputs": [],
   "source": []
  }
 ],
 "metadata": {
  "kernelspec": {
   "display_name": "Python 3 (ipykernel)",
   "language": "python",
   "name": "python3"
  },
  "language_info": {
   "codemirror_mode": {
    "name": "ipython",
    "version": 3
   },
   "file_extension": ".py",
   "mimetype": "text/x-python",
   "name": "python",
   "nbconvert_exporter": "python",
   "pygments_lexer": "ipython3",
   "version": "3.8.8"
  }
 },
 "nbformat": 4,
 "nbformat_minor": 5
}
